{
 "cells": [
  {
   "cell_type": "markdown",
   "id": "1c911486-7f59-488b-a6b4-bad4a9c0416e",
   "metadata": {},
   "source": [
    "# Libraries"
   ]
  },
  {
   "cell_type": "code",
   "execution_count": 1,
   "id": "b3a1d957-f94c-4651-9917-21355dc15572",
   "metadata": {},
   "outputs": [
    {
     "name": "stdout",
     "output_type": "stream",
     "text": [
      "Main Process Start date and time: 2024-10-09 16:27:19.299885\n"
     ]
    }
   ],
   "source": [
    "from datetime import datetime\n",
    "current_time = datetime.now()\n",
    "print(\"Main Process Start date and time:\", current_time)"
   ]
  },
  {
   "cell_type": "code",
   "execution_count": 2,
   "id": "f58eba2c-1a6f-4b85-a43e-29b001f005c7",
   "metadata": {},
   "outputs": [],
   "source": [
    "#!pip install imbalanced-learn"
   ]
  },
  {
   "cell_type": "code",
   "execution_count": null,
   "id": "794876d1-7bf8-4b4e-b9dc-ac2520fb2e76",
   "metadata": {},
   "outputs": [],
   "source": [
    "import numpy as np\n",
    "import pandas as pd\n",
    "from sklearn.model_selection import train_test_split\n",
    "from sklearn.preprocessing import StandardScaler\n",
    "from sklearn.cluster import KMeans\n",
    "from sklearn.ensemble import RandomForestClassifier\n",
    "from imblearn.over_sampling import SMOTE\n",
    "from sklearn.metrics import classification_report, roc_auc_score, confusion_matrix\n",
    "import tensorflow as tf\n",
    "from tensorflow.keras import layers, models\n",
    "\n",
    "import matplotlib.pyplot as plt\n",
    "from sklearn.metrics import roc_curve\n",
    "\n",
    "import seaborn as sns\n",
    "from pylab import rcParams\n",
    "#from matplotlib import pyplot as plt\n",
    "%matplotlib inline\n",
    "sns.set(style='whitegrid', palette='muted', font_scale=1.5)\n",
    "rcParams['figure.figsize'] = 14, 8\n",
    "RANDOM_SEED = 42\n",
    "LABELS = [\"Normal\", \"Fraud\"]"
   ]
  },
  {
   "cell_type": "markdown",
   "id": "f9954e57-0b5f-4721-959d-ab5843eef4c0",
   "metadata": {},
   "source": [
    "# Load Dataset"
   ]
  },
  {
   "cell_type": "code",
   "execution_count": null,
   "id": "e5d1d6df-74cc-4923-893d-6454293346ae",
   "metadata": {},
   "outputs": [],
   "source": [
    "# df = pd.read_csv(\"Kaggle-credit-card-fraud-detection_18Sep23/creditcard_2023.csv\")\n",
    "df = pd.read_csv(\"Kaggle-credit-card-fraud-detection-US_13Jul24/creditcard.csv\")\n"
   ]
  },
  {
   "cell_type": "code",
   "execution_count": null,
   "id": "af22e0d3-6485-44eb-bfcf-fa6e086beb69",
   "metadata": {},
   "outputs": [],
   "source": [
    "print(df.head())"
   ]
  },
  {
   "cell_type": "markdown",
   "id": "a870192b-7746-462f-af20-eba98c3bc6cc",
   "metadata": {},
   "source": [
    "# Exploration"
   ]
  },
  {
   "cell_type": "code",
   "execution_count": null,
   "id": "4dd05fbf-0fb1-4ee5-a7b0-d2194291ff2b",
   "metadata": {},
   "outputs": [],
   "source": [
    "df.shape"
   ]
  },
  {
   "cell_type": "code",
   "execution_count": null,
   "id": "9573c39c-a844-459c-ad94-766a8f0d440a",
   "metadata": {},
   "outputs": [],
   "source": [
    "df.isnull().values.any()"
   ]
  },
  {
   "cell_type": "code",
   "execution_count": null,
   "id": "c556cd1a-871e-4a89-89cb-222c9b9b5648",
   "metadata": {},
   "outputs": [],
   "source": [
    "count_classes = pd.value_counts(df['Class'], sort = True)\n",
    "count_classes.plot(kind = 'bar', rot=0)\n",
    "plt.title(\"Transaction class distribution\")\n",
    "plt.xticks(range(2), LABELS)\n",
    "plt.xlabel(\"Class\")\n",
    "plt.ylabel(\"Frequency\");"
   ]
  },
  {
   "cell_type": "markdown",
   "id": "f4205a91-b8db-412e-81e7-6b97854086c2",
   "metadata": {},
   "source": [
    "We have a highly imbalanced dataset on our hands. Normal transactions overwhelm the fraudulent ones by a large margin. Let's look at the two types of transactions:"
   ]
  },
  {
   "cell_type": "code",
   "execution_count": null,
   "id": "01c62a55-613f-417d-813a-82df4402ee27",
   "metadata": {},
   "outputs": [],
   "source": [
    "frauds = df[df.Class == 1]\n",
    "normal = df[df.Class == 0]"
   ]
  },
  {
   "cell_type": "code",
   "execution_count": null,
   "id": "9cb88dae-ddb5-47bb-8e7f-b6675eec9dbc",
   "metadata": {},
   "outputs": [],
   "source": [
    "frauds.shape"
   ]
  },
  {
   "cell_type": "code",
   "execution_count": null,
   "id": "fe9b1c64-62a0-416b-8307-cdf3432f9cd2",
   "metadata": {},
   "outputs": [],
   "source": [
    "normal.shape"
   ]
  },
  {
   "cell_type": "markdown",
   "id": "abb384cc-13b1-48c7-97ea-bcaf3bc5e357",
   "metadata": {},
   "source": [
    "# 1. Data Preprocessing"
   ]
  },
  {
   "cell_type": "markdown",
   "id": "ef625f5c-c49e-40a3-9840-b790ba38b245",
   "metadata": {},
   "source": [
    "### Separate features and labels"
   ]
  },
  {
   "cell_type": "code",
   "execution_count": null,
   "id": "1f2c3489-0938-4c69-9613-16799b5aa5c0",
   "metadata": {},
   "outputs": [],
   "source": [
    "X = df.drop(['Class'], axis=1)  # 'Class' is the fraud label\n",
    "y = df['Class']"
   ]
  },
  {
   "cell_type": "code",
   "execution_count": null,
   "id": "edc469a1-4d09-457b-a275-f8a6ada4fc48",
   "metadata": {},
   "outputs": [],
   "source": [
    "print(\"X.shape:\", X.shape)\n",
    "print(\"y.shape:\", y.shape)"
   ]
  },
  {
   "cell_type": "markdown",
   "id": "533e5ed6-1add-499b-9d62-5ee19b88bc35",
   "metadata": {},
   "source": [
    "### Split the data into training and testing sets\n",
    "### (X_train, X_test, y_train, y_test)"
   ]
  },
  {
   "cell_type": "code",
   "execution_count": null,
   "id": "6828ad84-858a-4006-bdb6-257b52f95027",
   "metadata": {},
   "outputs": [],
   "source": [
    "X_train, X_test, y_train, y_test = train_test_split(X, y, test_size=0.3, random_state=42, stratify=y)"
   ]
  },
  {
   "cell_type": "code",
   "execution_count": null,
   "id": "9028e746-e312-44db-898c-04d6f6aa5785",
   "metadata": {},
   "outputs": [],
   "source": [
    "print(\"X_train.shape:\", X_train.shape)\n",
    "print(\"X_test.shape:\", X_test.shape)\n",
    "print(\"y_train.shape:\", y_train.shape)\n",
    "print(\"y_test.shape:\", y_test.shape)"
   ]
  },
  {
   "cell_type": "markdown",
   "id": "2c182b0b-c134-496e-8c59-c9fe9ac5e3cf",
   "metadata": {},
   "source": [
    "# 2. Handling Imbalanced Data with SMOTE (Moving SMOTE before Autoencoder)\n",
    "### (X_train_balanced, y_train_balanced)"
   ]
  },
  {
   "cell_type": "markdown",
   "id": "64c997e7-dace-4c21-aa4d-90449998aa8d",
   "metadata": {},
   "source": [
    "1. Over-sampling: SMOTE doesn't just duplicate existing minority class instances. Instead, it creates new synthetic samples by interpolating between existing minority class examples.\n",
    "2. Synthetic Samples: For each instance in the minority class (fraud cases), SMOTE randomly selects one of its nearest neighbors and generates a synthetic point along the line connecting the two instances."
   ]
  },
  {
   "cell_type": "code",
   "execution_count": null,
   "id": "0f2f5141-1547-4680-83b9-8602e60c623b",
   "metadata": {},
   "outputs": [],
   "source": [
    "sm = SMOTE(random_state=42)\n",
    "X_train_balanced, y_train_balanced = sm.fit_resample(X_train, y_train)"
   ]
  },
  {
   "cell_type": "code",
   "execution_count": null,
   "id": "92d20db2-1bb5-4858-b2fe-98dd6231aa2c",
   "metadata": {},
   "outputs": [],
   "source": [
    "X_train_balanced.shape"
   ]
  },
  {
   "cell_type": "markdown",
   "id": "3a91376a-63fa-418d-8bae-8c24fed3c6a6",
   "metadata": {},
   "source": [
    "### Standardize the features after applying SMOTE\n",
    "### (X_train_scaled, X_test_scaled)"
   ]
  },
  {
   "cell_type": "markdown",
   "id": "03f93271-0c8f-44f6-8f20-42bb00ca9c5b",
   "metadata": {},
   "source": [
    "Feature scaling is applied using StandardScaler, which standardizes the features by removing the mean and scaling them to unit variance."
   ]
  },
  {
   "cell_type": "code",
   "execution_count": null,
   "id": "abf26b2a-5721-4e85-a800-f5f363419c9e",
   "metadata": {},
   "outputs": [],
   "source": [
    "scaler = StandardScaler()\n",
    "X_train_scaled = scaler.fit_transform(X_train_balanced)\n",
    "X_test_scaled = scaler.transform(X_test)"
   ]
  },
  {
   "cell_type": "code",
   "execution_count": null,
   "id": "820c3e1b-f216-4a27-a2c0-dd1b4bca58c1",
   "metadata": {},
   "outputs": [],
   "source": [
    "print(\"X_train_scaled.shape[1]:\", X_train_scaled.shape[1])\n",
    "print(\"X_test_scaled.shape:\", X_test_scaled.shape)"
   ]
  },
  {
   "cell_type": "markdown",
   "id": "d27edb50-5756-40b9-b715-d90ffd3d5ff5",
   "metadata": {},
   "source": [
    "# 3. Unsupervised Learning with Autoencoder for Anomaly Detection\n",
    "### (X_train_scaled2, X_test_scaled2)"
   ]
  },
  {
   "cell_type": "code",
   "execution_count": null,
   "id": "2ba59ac3-e41f-4a03-aab5-c9582573477d",
   "metadata": {},
   "outputs": [],
   "source": [
    "def build_autoencoder(input_dim):\n",
    "    input_layer = layers.Input(shape=(input_dim,))\n",
    "    encoder = layers.Dense(16, activation=\"relu\")(input_layer)\n",
    "    encoder = layers.Dense(8, activation=\"relu\")(encoder)\n",
    "    decoder = layers.Dense(16, activation='relu')(encoder)\n",
    "    decoder = layers.Dense(input_dim, activation='sigmoid')(decoder)\n",
    "    autoencoder = models.Model(inputs=input_layer, outputs=decoder)\n",
    "    autoencoder.compile(optimizer='adam', loss='mse')\n",
    "    return autoencoder"
   ]
  },
  {
   "cell_type": "code",
   "execution_count": null,
   "id": "3825ea6e-4027-41ef-b061-6b95bcf016d3",
   "metadata": {},
   "outputs": [],
   "source": [
    "from datetime import datetime\n",
    "current_time = datetime.now()\n",
    "print(\"20 EPOCHS Start date and time:\", current_time)"
   ]
  },
  {
   "cell_type": "code",
   "execution_count": null,
   "id": "fe5dd50d-36a2-41c4-ac74-3d1be5e04d53",
   "metadata": {},
   "outputs": [],
   "source": [
    "print(\"input_dim:\", X_train_scaled.shape[1])"
   ]
  },
  {
   "cell_type": "code",
   "execution_count": null,
   "id": "910491c7-f4a9-4d93-8779-0854596fa353",
   "metadata": {},
   "outputs": [],
   "source": [
    "input_dim = X_train_scaled.shape[1]\n",
    "autoencoder = build_autoencoder(input_dim)\n",
    "\n",
    "autoencoder.fit(X_train_scaled, X_train_scaled, epochs=20, batch_size=256, validation_data=(X_test_scaled, X_test_scaled), verbose=1)"
   ]
  },
  {
   "cell_type": "code",
   "execution_count": null,
   "id": "56c9eed8-75ab-4363-9960-fba32ea99bd5",
   "metadata": {},
   "outputs": [],
   "source": [
    "from datetime import datetime\n",
    "current_time = datetime.now()\n",
    "print(\"20 EPOCHS End date and time:\", current_time)"
   ]
  },
  {
   "cell_type": "markdown",
   "id": "dc43ddec-abe8-4903-b1a4-b44fda4f72c3",
   "metadata": {},
   "source": [
    "### Generate reconstruction errors\n",
    "### (train_reconstructions, train_mse, test_reconstructions, test_mse)"
   ]
  },
  {
   "cell_type": "code",
   "execution_count": null,
   "id": "72fd1199-a1cb-44b6-b497-e946b87666c7",
   "metadata": {},
   "outputs": [],
   "source": [
    "train_reconstructions = autoencoder.predict(X_train_scaled)\n",
    "train_mse = np.mean(np.power(X_train_scaled - train_reconstructions, 2), axis=1)"
   ]
  },
  {
   "cell_type": "code",
   "execution_count": null,
   "id": "bc31e9a5-6b5e-43ed-b47e-726845941037",
   "metadata": {},
   "outputs": [],
   "source": [
    "test_reconstructions = autoencoder.predict(X_test_scaled)\n",
    "test_mse = np.mean(np.power(X_test_scaled - test_reconstructions, 2), axis=1)"
   ]
  },
  {
   "cell_type": "markdown",
   "id": "5b019895-6779-498d-8e5e-254384876083",
   "metadata": {},
   "source": [
    "### Add the reconstruction error as a feature to the original dataset\n",
    "### (X_train_scaled2, X_test_scaled2)"
   ]
  },
  {
   "cell_type": "code",
   "execution_count": null,
   "id": "5280a103-6d41-43ef-bc99-43ad8d285ff2",
   "metadata": {},
   "outputs": [],
   "source": [
    "#X_train_balanced = pd.DataFrame(X_train_balanced)\n",
    "#X_train_balanced['reconstruction_error'] = train_mse\n",
    "X_train_scaled2 = pd.DataFrame(X_train_scaled)\n",
    "X_train_scaled2['reconstruction_error'] = train_mse"
   ]
  },
  {
   "cell_type": "code",
   "execution_count": null,
   "id": "76bd9e7c-10ee-4abd-847e-2130968433a6",
   "metadata": {},
   "outputs": [],
   "source": [
    "#X_test = pd.DataFrame(X_test)\n",
    "#X_test['reconstruction_error'] = test_mse\n",
    "X_test_scaled2 = pd.DataFrame(X_test_scaled)\n",
    "X_test_scaled2['reconstruction_error'] = test_mse"
   ]
  },
  {
   "cell_type": "code",
   "execution_count": null,
   "id": "989b179f-b180-4776-9674-1281ed989839",
   "metadata": {},
   "outputs": [],
   "source": [
    "print(\"X_train_scaled2.shape:\", X_train_scaled2.shape)\n",
    "print(\"X_test_scaled2.shape:\", X_test_scaled2.shape)"
   ]
  },
  {
   "cell_type": "markdown",
   "id": "999b9012-2d74-4616-8aaa-ceb257a9e706",
   "metadata": {},
   "source": [
    "# 4. Unsupervised Learning with KMeans Clustering"
   ]
  },
  {
   "cell_type": "code",
   "execution_count": null,
   "id": "6184d4a1-eb87-4ee3-a28e-c1fd2f302e77",
   "metadata": {},
   "outputs": [],
   "source": [
    "kmeans = KMeans(n_clusters=2, random_state=42)\n",
    "#kmeans.fit(X_train_scaled)\n",
    "kmeans.fit(X_train_scaled2)"
   ]
  },
  {
   "cell_type": "markdown",
   "id": "f53fef62-4ede-41a5-991e-6634d9379631",
   "metadata": {},
   "source": [
    "### Add the cluster labels as features\n",
    "### (X_train_scaled3)"
   ]
  },
  {
   "cell_type": "code",
   "execution_count": null,
   "id": "1f4799e3-30e4-4a6c-910d-9451904e3581",
   "metadata": {},
   "outputs": [],
   "source": [
    "#X_train_balanced['cluster_label'] = kmeans.labels_\n",
    "#X_test['cluster_label'] = kmeans.predict(X_test_scaled)\n",
    "X_train_scaled2['cluster_label'] = kmeans.labels_\n",
    "X_test_scaled2['cluster_label'] = kmeans.predict(X_test_scaled2)"
   ]
  },
  {
   "cell_type": "markdown",
   "id": "acd2b114-d868-4501-aba1-77baecd41adf",
   "metadata": {},
   "source": [
    "# Concatenate Step2 Balanced Data + Step4 Unsupervised model data"
   ]
  },
  {
   "cell_type": "code",
   "execution_count": null,
   "id": "5302202e-4e3e-43cf-9b8f-fba64897e2c1",
   "metadata": {},
   "outputs": [],
   "source": [
    "X_train_combined = np.concatenate([X_train_scaled, X_train_scaled2[['reconstruction_error', 'cluster_label']].values], axis=1)\n",
    "X_test_combined = np.concatenate([X_test_scaled, X_test_scaled2[['reconstruction_error', 'cluster_label']].values], axis=1)"
   ]
  },
  {
   "cell_type": "code",
   "execution_count": null,
   "id": "b961081c-d7e8-4ab2-ad1b-87db6eef723c",
   "metadata": {},
   "outputs": [],
   "source": []
  },
  {
   "cell_type": "code",
   "execution_count": null,
   "id": "d19a8a38-9b84-45a7-aa81-b6a4074bf412",
   "metadata": {},
   "outputs": [],
   "source": []
  },
  {
   "cell_type": "markdown",
   "id": "72ff5114-80c5-4528-9deb-b142f8e71f91",
   "metadata": {},
   "source": [
    "# 5. Supervised Learning using Deep learning model"
   ]
  },
  {
   "cell_type": "code",
   "execution_count": null,
   "id": "c39d37e4-b1bf-4f5f-8163-e38da7ab5811",
   "metadata": {},
   "outputs": [],
   "source": [
    "from tensorflow.keras import Sequential\n",
    "from tensorflow.keras.layers import Dense"
   ]
  },
  {
   "cell_type": "code",
   "execution_count": null,
   "id": "96d7dbc4-5d9a-488d-83e2-f821c6a997b2",
   "metadata": {},
   "outputs": [],
   "source": [
    "input_dim=X_train_balanced.shape[1]\n",
    "input_dim"
   ]
  },
  {
   "cell_type": "code",
   "execution_count": null,
   "id": "a4560d21-9a13-4381-bd4c-cf6d662e19a4",
   "metadata": {},
   "outputs": [],
   "source": [
    "print(\"X_train_scaled2.shape:\", X_train_scaled2.shape)\n"
   ]
  },
  {
   "cell_type": "markdown",
   "id": "ec1fa792-5634-4d7c-964e-bd00e481ba35",
   "metadata": {},
   "source": [
    "### model architecture"
   ]
  },
  {
   "cell_type": "code",
   "execution_count": null,
   "id": "2c67ebcc-1dc7-4d6b-8bc1-b060eb930bce",
   "metadata": {},
   "outputs": [],
   "source": [
    "model = Sequential()\n",
    "model.add(Dense(64, input_dim=X_train_combined.shape[1], activation='relu'))  # Adjusted input_dim for combined features\n",
    "model.add(Dense(32, activation='relu'))\n",
    "model.add(Dense(16, activation='relu'))\n",
    "model.add(Dense(1, activation='sigmoid'))  # Binary classification output"
   ]
  },
  {
   "cell_type": "code",
   "execution_count": null,
   "id": "2f34a0b4-7bcf-4ed9-8493-4c695de16ef7",
   "metadata": {},
   "outputs": [],
   "source": [
    "model.compile(optimizer='adam', loss='binary_crossentropy', metrics=['accuracy'])"
   ]
  },
  {
   "cell_type": "code",
   "execution_count": null,
   "id": "b33f86d0-45fd-4aa5-aead-9547c76baf64",
   "metadata": {},
   "outputs": [],
   "source": [
    "from datetime import datetime\n",
    "current_time = datetime.now()\n",
    "print(\"Model Training start:\", current_time)"
   ]
  },
  {
   "cell_type": "code",
   "execution_count": null,
   "id": "0d8c7028-7905-4f88-af46-8d5e3f0ad2a5",
   "metadata": {},
   "outputs": [],
   "source": [
    "# Train\n",
    "model.fit(X_train_combined, \n",
    "          y_train_balanced, \n",
    "          epochs=20, \n",
    "          batch_size=256, \n",
    "          validation_data=(X_test_combined, y_test), verbose=1)"
   ]
  },
  {
   "cell_type": "code",
   "execution_count": null,
   "id": "7159ceee-7fcb-465b-9b3e-7a871400c273",
   "metadata": {},
   "outputs": [],
   "source": [
    "from datetime import datetime\n",
    "current_time = datetime.now()\n",
    "print(\"Model Training end:\", current_time)"
   ]
  },
  {
   "cell_type": "markdown",
   "id": "dba43ab5-6f0b-4ec0-94b1-4feecc40b5d0",
   "metadata": {},
   "source": [
    "### Make predictions"
   ]
  },
  {
   "cell_type": "code",
   "execution_count": null,
   "id": "f380b9ef-9bb8-44c6-98e4-8c99a8e80bc9",
   "metadata": {},
   "outputs": [],
   "source": [
    "y_pred = (model.predict(X_test_combined) > 0.5).astype(\"int32\")"
   ]
  },
  {
   "cell_type": "markdown",
   "id": "0b0f0c51-83cd-4a09-8841-05183a9d2b9b",
   "metadata": {},
   "source": [
    "# 6. Model Evaluation"
   ]
  },
  {
   "cell_type": "code",
   "execution_count": null,
   "id": "957852fc-b17a-4e4d-b819-23f47dd26e68",
   "metadata": {},
   "outputs": [],
   "source": [
    "print(\"Classification Report:\")\n",
    "print(classification_report(y_test, y_pred))"
   ]
  },
  {
   "cell_type": "markdown",
   "id": "4b966b0d-c7f8-4617-9364-4f5315b1b095",
   "metadata": {},
   "source": [
    "### ROC AUC Score"
   ]
  },
  {
   "cell_type": "code",
   "execution_count": null,
   "id": "16f63410-e906-40fb-9a29-da123b32a68d",
   "metadata": {},
   "outputs": [],
   "source": [
    "roc_score = roc_auc_score(y_test, y_pred)\n",
    "print(f\"ROC AUC Score: {roc_score}\")"
   ]
  },
  {
   "cell_type": "markdown",
   "id": "27bbf89f-ae8e-4b30-b8af-147e18c5717c",
   "metadata": {},
   "source": [
    "### Confusion Matrix"
   ]
  },
  {
   "cell_type": "code",
   "execution_count": null,
   "id": "cbe4c458-8188-427d-9efc-01fea9834a98",
   "metadata": {},
   "outputs": [],
   "source": [
    "print(\"Confusion Matrix:\")\n",
    "print(confusion_matrix(y_test, y_pred))"
   ]
  },
  {
   "cell_type": "markdown",
   "id": "8d366901-83df-4885-9b34-c85eb15b39be",
   "metadata": {},
   "source": [
    "# 7. Plotting ROC Curve (Optional)"
   ]
  },
  {
   "cell_type": "code",
   "execution_count": null,
   "id": "aee2acb5-19c3-4ab7-96d7-39d5b5167a1c",
   "metadata": {},
   "outputs": [],
   "source": [
    "import matplotlib.pyplot as plt\n",
    "from sklearn.metrics import roc_curve"
   ]
  },
  {
   "cell_type": "code",
   "execution_count": null,
   "id": "bc37ecb4-639c-47d4-8c0e-0f77eaa60cd3",
   "metadata": {},
   "outputs": [],
   "source": [
    "y_probas = model.predict(X_test_scaled)\n",
    "fpr, tpr, thresholds = roc_curve(y_test, y_probas)"
   ]
  },
  {
   "cell_type": "code",
   "execution_count": null,
   "id": "51b4f338-b5bd-4070-b6cd-44b5a27f8ebb",
   "metadata": {},
   "outputs": [],
   "source": [
    "plt.plot(fpr, tpr, color='blue', label=f'ROC curve (area = {roc_score:.2f})')\n",
    "plt.xlabel('False Positive Rate')\n",
    "plt.ylabel('True Positive Rate')\n",
    "plt.title('Receiver Operating Characteristic (ROC)')\n",
    "plt.legend(loc=\"lower right\")\n",
    "plt.show()"
   ]
  },
  {
   "cell_type": "code",
   "execution_count": null,
   "id": "3d7ae52e-49d0-4010-828a-10c5d4702f78",
   "metadata": {},
   "outputs": [],
   "source": [
    "from datetime import datetime\n",
    "current_time = datetime.now()\n",
    "print(\"Main Process End date and time:\", current_time)"
   ]
  },
  {
   "cell_type": "code",
   "execution_count": null,
   "id": "c8578fdc-5796-4d96-83d4-6bb9603bff4a",
   "metadata": {},
   "outputs": [],
   "source": []
  }
 ],
 "metadata": {
  "kernelspec": {
   "display_name": "Python 3 (ipykernel)",
   "language": "python",
   "name": "python3"
  },
  "language_info": {
   "codemirror_mode": {
    "name": "ipython",
    "version": 3
   },
   "file_extension": ".py",
   "mimetype": "text/x-python",
   "name": "python",
   "nbconvert_exporter": "python",
   "pygments_lexer": "ipython3",
   "version": "3.12.2"
  }
 },
 "nbformat": 4,
 "nbformat_minor": 5
}
